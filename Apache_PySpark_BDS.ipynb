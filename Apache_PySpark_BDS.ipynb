{
  "nbformat": 4,
  "nbformat_minor": 0,
  "metadata": {
    "colab": {
      "name": "Apache PySpark - BDS.ipynb",
      "provenance": [],
      "collapsed_sections": []
    },
    "kernelspec": {
      "name": "python3",
      "display_name": "Python 3"
    },
    "language_info": {
      "name": "python"
    }
  },
  "cells": [
    {
      "cell_type": "markdown",
      "source": [
        "# **AIM**\n",
        "\n",
        "## A Python / Java / Spark code which enables:\n",
        "\n",
        "*   ### The given CSV data to be written, using the distributed storage layout strategy described, to reduce duplicate data\n",
        "*   ### Retrieval of any record given the record ID from the distributed storage\n",
        "\n"
      ],
      "metadata": {
        "id": "VOkoOdpGABfN"
      }
    },
    {
      "cell_type": "markdown",
      "source": [
        "# **Setup Apache Spark**"
      ],
      "metadata": {
        "id": "qtzdPAVdjB5W"
      }
    },
    {
      "cell_type": "code",
      "source": [
        "!apt-get install openjdk-8-jdk-headless -qq > /dev/null"
      ],
      "metadata": {
        "id": "F49hlEePhkOG"
      },
      "execution_count": null,
      "outputs": []
    },
    {
      "cell_type": "code",
      "source": [
        "!wget -q https://www-eu.apache.org/dist/spark/spark-3.0.3/spark-3.0.3-bin-hadoop2.7.tgz"
      ],
      "metadata": {
        "id": "hCBGwpsIhkTb"
      },
      "execution_count": null,
      "outputs": []
    },
    {
      "cell_type": "code",
      "source": [
        "!tar xf spark-3.0.3-bin-hadoop2.7.tgz"
      ],
      "metadata": {
        "id": "3qNQMgT7hph8"
      },
      "execution_count": null,
      "outputs": []
    },
    {
      "cell_type": "code",
      "source": [
        "!pip install -q findspark"
      ],
      "metadata": {
        "id": "ky1pcz2uhrB_"
      },
      "execution_count": null,
      "outputs": []
    },
    {
      "cell_type": "code",
      "source": [
        "import os\n",
        "os.environ[\"JAVA_HOME\"] = \"/usr/lib/jvm/java-8-openjdk-amd64\"\n",
        "os.environ[\"SPARK_HOME\"] = \"/content/spark-3.0.3-bin-hadoop2.7\""
      ],
      "metadata": {
        "id": "du_-Q4w0htJB"
      },
      "execution_count": null,
      "outputs": []
    },
    {
      "cell_type": "code",
      "source": [
        "import findspark\n",
        "findspark.init()"
      ],
      "metadata": {
        "id": "qcnxCVEuhvN0"
      },
      "execution_count": null,
      "outputs": []
    },
    {
      "cell_type": "code",
      "source": [
        "findspark.find()"
      ],
      "metadata": {
        "colab": {
          "base_uri": "https://localhost:8080/",
          "height": 36
        },
        "id": "oLaxQoY2hxQo",
        "outputId": "5b3a6d10-0174-4e92-bb89-159fc95a723e"
      },
      "execution_count": null,
      "outputs": [
        {
          "output_type": "execute_result",
          "data": {
            "application/vnd.google.colaboratory.intrinsic+json": {
              "type": "string"
            },
            "text/plain": [
              "'/content/spark-3.0.3-bin-hadoop2.7'"
            ]
          },
          "metadata": {},
          "execution_count": 243
        }
      ]
    },
    {
      "cell_type": "code",
      "source": [
        "from pyspark.sql import SparkSession\n",
        "\n",
        "spark = SparkSession.builder\\\n",
        "        .master(\"local\")\\\n",
        "        .appName(\"Colab\")\\\n",
        "        .config('spark.ui.port', '4050')\\\n",
        "        .getOrCreate()\n",
        "spark"
      ],
      "metadata": {
        "colab": {
          "base_uri": "https://localhost:8080/",
          "height": 223
        },
        "id": "dQJa35bxhyyT",
        "outputId": "a1b39443-6cbc-4b4c-d387-4275fa40604e"
      },
      "execution_count": null,
      "outputs": [
        {
          "output_type": "execute_result",
          "data": {
            "text/html": [
              "\n",
              "            <div>\n",
              "                <p><b>SparkSession - in-memory</b></p>\n",
              "                \n",
              "        <div>\n",
              "            <p><b>SparkContext</b></p>\n",
              "\n",
              "            <p><a href=\"http://3e8adeb8531d:4050\">Spark UI</a></p>\n",
              "\n",
              "            <dl>\n",
              "              <dt>Version</dt>\n",
              "                <dd><code>v3.0.3</code></dd>\n",
              "              <dt>Master</dt>\n",
              "                <dd><code>local</code></dd>\n",
              "              <dt>AppName</dt>\n",
              "                <dd><code>Colab</code></dd>\n",
              "            </dl>\n",
              "        </div>\n",
              "        \n",
              "            </div>\n",
              "        "
            ],
            "text/plain": [
              "<pyspark.sql.session.SparkSession at 0x7f9177e04550>"
            ]
          },
          "metadata": {},
          "execution_count": 244
        }
      ]
    },
    {
      "cell_type": "code",
      "source": [
        "!wget https://bin.equinox.io/c/4VmDzA7iaHb/ngrok-stable-linux-amd64.zip\n",
        "!unzip ngrok-stable-linux-amd64.zip\n",
        "get_ipython().system_raw('./ngrok http 4050 &')\n",
        "!curl -s http://localhost:4040/api/tunnels"
      ],
      "metadata": {
        "colab": {
          "base_uri": "https://localhost:8080/"
        },
        "id": "e3B7nXCgh10D",
        "outputId": "b4865077-4a10-4809-a5d3-9544d8c0ae72"
      },
      "execution_count": null,
      "outputs": [
        {
          "output_type": "stream",
          "name": "stdout",
          "text": [
            "--2022-03-02 19:08:37--  https://bin.equinox.io/c/4VmDzA7iaHb/ngrok-stable-linux-amd64.zip\n",
            "Resolving bin.equinox.io (bin.equinox.io)... 18.205.222.128, 54.161.241.46, 54.237.133.81, ...\n",
            "Connecting to bin.equinox.io (bin.equinox.io)|18.205.222.128|:443... connected.\n",
            "HTTP request sent, awaiting response... 200 OK\n",
            "Length: 13832437 (13M) [application/octet-stream]\n",
            "Saving to: ‘ngrok-stable-linux-amd64.zip.1’\n",
            "\n",
            "ngrok-stable-linux- 100%[===================>]  13.19M  18.5MB/s    in 0.7s    \n",
            "\n",
            "2022-03-02 19:08:38 (18.5 MB/s) - ‘ngrok-stable-linux-amd64.zip.1’ saved [13832437/13832437]\n",
            "\n",
            "Archive:  ngrok-stable-linux-amd64.zip\n",
            "replace ngrok? [y]es, [n]o, [A]ll, [N]one, [r]ename: y\n",
            "  inflating: ngrok                   \n",
            "{\"tunnels\":[{\"name\":\"command_line (http)\",\"uri\":\"/api/tunnels/command_line%20%28http%29\",\"public_url\":\"http://1131-34-125-8-227.ngrok.io\",\"proto\":\"http\",\"config\":{\"addr\":\"http://localhost:4050\",\"inspect\":true},\"metrics\":{\"conns\":{\"count\":0,\"gauge\":0,\"rate1\":0,\"rate5\":0,\"rate15\":0,\"p50\":0,\"p90\":0,\"p95\":0,\"p99\":0},\"http\":{\"count\":0,\"rate1\":0,\"rate5\":0,\"rate15\":0,\"p50\":0,\"p90\":0,\"p95\":0,\"p99\":0}}},{\"name\":\"command_line\",\"uri\":\"/api/tunnels/command_line\",\"public_url\":\"https://1131-34-125-8-227.ngrok.io\",\"proto\":\"https\",\"config\":{\"addr\":\"http://localhost:4050\",\"inspect\":true},\"metrics\":{\"conns\":{\"count\":0,\"gauge\":0,\"rate1\":0,\"rate5\":0,\"rate15\":0,\"p50\":0,\"p90\":0,\"p95\":0,\"p99\":0},\"http\":{\"count\":0,\"rate1\":0,\"rate5\":0,\"rate15\":0,\"p50\":0,\"p90\":0,\"p95\":0,\"p99\":0}}}],\"uri\":\"/api/tunnels\"}\n"
          ]
        }
      ]
    },
    {
      "cell_type": "markdown",
      "source": [
        "# **Load and Preprocess Data**"
      ],
      "metadata": {
        "id": "hNjvOat3kk25"
      }
    },
    {
      "cell_type": "code",
      "source": [
        "from pyspark.sql.functions import col, countDistinct, regexp_replace, dense_rank, count, when, isnull, rand"
      ],
      "metadata": {
        "id": "fSKsEbPDvFQE"
      },
      "execution_count": null,
      "outputs": []
    },
    {
      "cell_type": "code",
      "source": [
        "data = spark.read.csv(\"/content/drive/MyDrive/Coursera-1.csv\", header=True, inferSchema=True)\n",
        "data.printSchema()"
      ],
      "metadata": {
        "colab": {
          "base_uri": "https://localhost:8080/"
        },
        "id": "MUpDJVtUicUj",
        "outputId": "856e9126-7ff3-4c6a-f39b-a15c115a78c0"
      },
      "execution_count": null,
      "outputs": [
        {
          "output_type": "stream",
          "name": "stdout",
          "text": [
            "root\n",
            " |-- Course Name: string (nullable = true)\n",
            " |-- University: string (nullable = true)\n",
            " |-- Difficulty Level: string (nullable = true)\n",
            " |-- Course Rating: string (nullable = true)\n",
            " |-- Course URL: string (nullable = true)\n",
            " |-- Course Description: string (nullable = true)\n",
            " |-- Skills: string (nullable = true)\n",
            "\n"
          ]
        }
      ]
    },
    {
      "cell_type": "code",
      "source": [
        "# Display rows\n",
        "data.show(5)"
      ],
      "metadata": {
        "colab": {
          "base_uri": "https://localhost:8080/"
        },
        "id": "SzD4Tdudis1R",
        "outputId": "df54809b-32cb-4e33-ae49-fb5341f97a02"
      },
      "execution_count": null,
      "outputs": [
        {
          "output_type": "stream",
          "name": "stdout",
          "text": [
            "+--------------------+--------------------+----------------+-------------+--------------------+--------------------+--------------------+\n",
            "|         Course Name|          University|Difficulty Level|Course Rating|          Course URL|  Course Description|              Skills|\n",
            "+--------------------+--------------------+----------------+-------------+--------------------+--------------------+--------------------+\n",
            "|Write A Feature L...|Michigan State Un...|        Beginner|          4.8|https://www.cours...|\"Write a Full Len...| writing! You wil...|\n",
            "|Business Strategy...|Coursera Project ...|        Beginner|          4.8|https://www.cours...|By the end of thi...|Finance  business...|\n",
            "|Silicon Thin Film...| �cole Polytechnique|        Advanced|          4.1|https://www.cours...|\"This course cons...| thin film semico...|\n",
            "|Finance for Managers|IESE Business School|    Intermediate|          4.8|https://www.cours...|When it comes to ...|accounts receivab...|\n",
            "|Retrieve Data usi...|Coursera Project ...|        Beginner|          4.6|https://www.cours...|In this course yo...|Data Analysis  se...|\n",
            "+--------------------+--------------------+----------------+-------------+--------------------+--------------------+--------------------+\n",
            "only showing top 5 rows\n",
            "\n"
          ]
        }
      ]
    },
    {
      "cell_type": "code",
      "source": [
        "# Count no:of rows in data\n",
        "data.count()"
      ],
      "metadata": {
        "id": "cPIZ3OWGi1ms",
        "colab": {
          "base_uri": "https://localhost:8080/"
        },
        "outputId": "1f1bd2be-0d35-4380-e5c5-d865cc885f04"
      },
      "execution_count": null,
      "outputs": [
        {
          "output_type": "execute_result",
          "data": {
            "text/plain": [
              "3531"
            ]
          },
          "metadata": {},
          "execution_count": 299
        }
      ]
    },
    {
      "cell_type": "code",
      "source": [
        "# Display specific columns\n",
        "data.select(\"Course Name\", \"University\", \"Difficulty Level\").show(5)"
      ],
      "metadata": {
        "colab": {
          "base_uri": "https://localhost:8080/"
        },
        "id": "h1MgAwnGjQ-k",
        "outputId": "c51b855b-29bb-4572-f696-e26c1a5c1ce2"
      },
      "execution_count": null,
      "outputs": [
        {
          "output_type": "stream",
          "name": "stdout",
          "text": [
            "+--------------------+--------------------+----------------+\n",
            "|         Course Name|          University|Difficulty Level|\n",
            "+--------------------+--------------------+----------------+\n",
            "|Write A Feature L...|Michigan State Un...|        Beginner|\n",
            "|Business Strategy...|Coursera Project ...|        Beginner|\n",
            "|Silicon Thin Film...| �cole Polytechnique|        Advanced|\n",
            "|Finance for Managers|IESE Business School|    Intermediate|\n",
            "|Retrieve Data usi...|Coursera Project ...|        Beginner|\n",
            "+--------------------+--------------------+----------------+\n",
            "only showing top 5 rows\n",
            "\n"
          ]
        }
      ]
    },
    {
      "cell_type": "code",
      "source": [
        "# Describe columns\n",
        "data.describe().show()"
      ],
      "metadata": {
        "colab": {
          "base_uri": "https://localhost:8080/"
        },
        "id": "okG9SGGsk4KS",
        "outputId": "0a908ff4-5b9b-44dc-ca3a-9b8478c7e88f"
      },
      "execution_count": null,
      "outputs": [
        {
          "output_type": "stream",
          "name": "stdout",
          "text": [
            "+-------+--------------------+--------------------+--------------------+--------------------+--------------------+--------------------+--------------------+\n",
            "|summary|         Course Name|          University|    Difficulty Level|       Course Rating|          Course URL|  Course Description|              Skills|\n",
            "+-------+--------------------+--------------------+--------------------+--------------------+--------------------+--------------------+--------------------+\n",
            "|  count|                3531|                3526|                3525|                3525|                3524|                3524|                3520|\n",
            "|   mean|                null|                null|                null|   4.554476744186075|                null|                null|                 2.0|\n",
            "| stddev|                null|                null|                null| 0.33724464590140496|                null|                null|                 NaN|\n",
            "|    min|  If you have com...|            cultural| and aesthetic hi...| as governed by p...| but this course ...|        culminating |    -pursue marke...|\n",
            "|    max|     rich historical|�cole normale sup...|      Not Calibrated|      Not Calibrated|https://www.cours...|�Tell me a story....|zoology  biology ...|\n",
            "+-------+--------------------+--------------------+--------------------+--------------------+--------------------+--------------------+--------------------+\n",
            "\n"
          ]
        }
      ]
    },
    {
      "cell_type": "code",
      "source": [
        "data.select(\"Course Description\").distinct().show()"
      ],
      "metadata": {
        "colab": {
          "base_uri": "https://localhost:8080/"
        },
        "id": "UwPOkWmP9ahs",
        "outputId": "1f4a5bd9-13dd-4927-e048-23194685fc3b"
      },
      "execution_count": null,
      "outputs": [
        {
          "output_type": "stream",
          "name": "stdout",
          "text": [
            "+--------------------+\n",
            "|  Course Description|\n",
            "+--------------------+\n",
            "|Of all the animal...|\n",
            "|In this course, y...|\n",
            "|In this 1 hour an...|\n",
            "|\"Do you want to k...|\n",
            "|This course intro...|\n",
            "|The proliferation...|\n",
            "|\"Financial Engine...|\n",
            "|\"Interest in medi...|\n",
            "|In this course yo...|\n",
            "|This course is fo...|\n",
            "|Despite the recen...|\n",
            "|\"This course is t...|\n",
            "|In this 2-hour lo...|\n",
            "|In order to manag...|\n",
            "|Meeting another p...|\n",
            "|In the fourth par...|\n",
            "|Version Control S...|\n",
            "|As they tumble th...|\n",
            "|The second course...|\n",
            "|Learn the mathema...|\n",
            "+--------------------+\n",
            "only showing top 20 rows\n",
            "\n"
          ]
        }
      ]
    },
    {
      "cell_type": "code",
      "source": [
        "# Preprocess data\n",
        "data = data.withColumn('Course Name', regexp_replace('Course Name', '[^A-Za-z0-9 ]+', ''))\\\n",
        "    .withColumn('University', regexp_replace('University', '[^A-Za-z0-9 ]+', ''))\\\n",
        "    .withColumn('Difficulty Level', regexp_replace('Difficulty Level', '[^A-Za-z0-9 ]+', ''))\\\n",
        "    .withColumn('Course Rating', regexp_replace('Course Rating', '[^A-Za-z0-9 ]+', ''))\\\n",
        "    .withColumn('Course Description', regexp_replace('Course Description', '[^A-Za-z0-9 ]+', ''))\\\n",
        "    .withColumn('Skills', regexp_replace('Skills', '[^A-Za-z0-9 ]+', ''))\n",
        "data.show()"
      ],
      "metadata": {
        "colab": {
          "base_uri": "https://localhost:8080/"
        },
        "id": "A9Fh12IYsK5Z",
        "outputId": "fc7fbe1f-5f8d-49a9-9cf6-26a85f32cecd"
      },
      "execution_count": null,
      "outputs": [
        {
          "output_type": "stream",
          "name": "stdout",
          "text": [
            "+--------------------+--------------------+----------------+--------------+--------------------+--------------------+--------------------+\n",
            "|         Course Name|          University|Difficulty Level| Course Rating|          Course URL|  Course Description|              Skills|\n",
            "+--------------------+--------------------+----------------+--------------+--------------------+--------------------+--------------------+\n",
            "|Write A Feature L...|Michigan State Un...|        Beginner|            48|https://www.cours...|Write a Full Leng...| writing You will...|\n",
            "|Business Strategy...|Coursera Project ...|        Beginner|            48|https://www.cours...|By the end of thi...|Finance  business...|\n",
            "|Silicon Thin Film...|  cole Polytechnique|        Advanced|            41|https://www.cours...|This course consi...| thin film semico...|\n",
            "|Finance for Managers|IESE Business School|    Intermediate|            48|https://www.cours...|When it comes to ...|accounts receivab...|\n",
            "|Retrieve Data usi...|Coursera Project ...|        Beginner|            46|https://www.cours...|In this course yo...|Data Analysis  se...|\n",
            "|Building Test Aut...|Coursera Project ...|        Beginner|            47|https://www.cours...|Selenium is one o...|maintenance  test...|\n",
            "|Doing Business in...|The Chinese Unive...|        Advanced|            33|https://www.cours...|Doing Business in...|marketing plan  P...|\n",
            "|Programming Langu...|University of Was...|    Intermediate|            49|https://www.cours...|This course is an...|inference  ml pro...|\n",
            "|The Roles and Res...|The State Univers...|    Intermediate|            43|https://www.cours...|This course provi...|Planning  Peer Re...|\n",
            "|Business Russian ...|Saint Petersburg ...|    Intermediate|Not Calibrated|https://www.cours...|Russian is consid...|Russian  market e...|\n",
            "|Agile Projects  D...|Coursera Project ...|        Beginner|             4|https://www.cours...|By the end of thi...| this guided proj...|\n",
            "|Esports Managemen...|University of Cal...|        Beginner|            44|https://www.cours...|We will analyze t...|Average  Planning...|\n",
            "|Hacking and Patching|University of Col...|        Advanced|            34|https://www.cours...|In this MOOC you ...|Security Design  ...|\n",
            "|Business Statisti...|     Rice University|        Beginner|            47|https://www.cours...|The Business Stat...|Statistical Analy...|\n",
            "|Grab Data Fast wi...|Coursera Project ...|        Beginner|            45|https://www.cours...|Data can come our...|evaluation  softw...|\n",
            "|Global Health An ...|University of Geneva|        Beginner|            46|https://www.cours...|This course propo...|sustainability  r...|\n",
            "|Python Programmin...|     Rice University|        Beginner|            48|https://www.cours...|This course will ...|semantics  Python...|\n",
            "|Creating Dashboar...|University of Cal...|        Advanced|            46|https://www.cours...|Leveraging the vi...|neuroscience  Dat...|\n",
            "|Parallel programming|cole Polytechniqu...|        Beginner|            44|https://www.cours...|With every smartp...|Data Structures  ...|\n",
            "|Recommendation Sy...|        Google Cloud|        Advanced|            42|https://www.cours...|In this course yo...|systems architect...|\n",
            "+--------------------+--------------------+----------------+--------------+--------------------+--------------------+--------------------+\n",
            "only showing top 20 rows\n",
            "\n"
          ]
        }
      ]
    },
    {
      "cell_type": "code",
      "source": [
        "# Counting and removing null values\n",
        "data.select([count(when(isnull(c), c)).alias(c) for c in data.columns]).show()"
      ],
      "metadata": {
        "colab": {
          "base_uri": "https://localhost:8080/"
        },
        "id": "TYuwkLSauyJW",
        "outputId": "6ab3a71d-2cd8-4fb5-ffa8-9797a423efa2"
      },
      "execution_count": null,
      "outputs": [
        {
          "output_type": "stream",
          "name": "stdout",
          "text": [
            "+-----------+----------+----------------+-------------+----------+------------------+------+\n",
            "|Course Name|University|Difficulty Level|Course Rating|Course URL|Course Description|Skills|\n",
            "+-----------+----------+----------------+-------------+----------+------------------+------+\n",
            "|          0|         5|               6|            6|         7|                 7|    11|\n",
            "+-----------+----------+----------------+-------------+----------+------------------+------+\n",
            "\n"
          ]
        }
      ]
    },
    {
      "cell_type": "code",
      "source": [
        "data = data.na.drop()\n",
        "data.select([count(when(isnull(c), c)).alias(c) for c in data.columns]).show()"
      ],
      "metadata": {
        "colab": {
          "base_uri": "https://localhost:8080/"
        },
        "id": "6FEvhatfvpMj",
        "outputId": "110113be-e709-4897-d433-d1a45fb5f155"
      },
      "execution_count": null,
      "outputs": [
        {
          "output_type": "stream",
          "name": "stdout",
          "text": [
            "+-----------+----------+----------------+-------------+----------+------------------+------+\n",
            "|Course Name|University|Difficulty Level|Course Rating|Course URL|Course Description|Skills|\n",
            "+-----------+----------+----------------+-------------+----------+------------------+------+\n",
            "|          0|         0|               0|            0|         0|                 0|     0|\n",
            "+-----------+----------+----------------+-------------+----------+------------------+------+\n",
            "\n"
          ]
        }
      ]
    },
    {
      "cell_type": "code",
      "source": [
        "# Identifying no:of unique values in each column in data\n",
        "data.agg(*(countDistinct(col(c)).alias(c) for c in data.columns)).show()"
      ],
      "metadata": {
        "colab": {
          "base_uri": "https://localhost:8080/"
        },
        "id": "oQtIct-4k_cc",
        "outputId": "030ef362-837b-41ed-9f21-60d8caa74461"
      },
      "execution_count": null,
      "outputs": [
        {
          "output_type": "stream",
          "name": "stdout",
          "text": [
            "+-----------+----------+----------------+-------------+----------+------------------+------+\n",
            "|Course Name|University|Difficulty Level|Course Rating|Course URL|Course Description|Skills|\n",
            "+-----------+----------+----------------+-------------+----------+------------------+------+\n",
            "|       3414|       185|               6|           32|      3422|              3382|  3393|\n",
            "+-----------+----------+----------------+-------------+----------+------------------+------+\n",
            "\n"
          ]
        }
      ]
    },
    {
      "cell_type": "markdown",
      "source": [
        "# **Setup Metadata**"
      ],
      "metadata": {
        "id": "b55mUoe2wHML"
      }
    },
    {
      "cell_type": "code",
      "source": [
        "# Setup metadata to reduce duplication\n",
        "from pyspark.sql import Window\n",
        "\n",
        "window = Window.orderBy(['University', 'Difficulty Level', 'Course Rating'])\n",
        "data = data.withColumn('recordID',dense_rank().over(window) - 1)\n",
        "data.orderBy(['University', 'Difficulty Level', 'Course Rating', 'recordID']).show()"
      ],
      "metadata": {
        "colab": {
          "base_uri": "https://localhost:8080/"
        },
        "id": "gO2gu46SwCC3",
        "outputId": "06e99865-fe33-4470-fbb7-186cd3f9d93f"
      },
      "execution_count": null,
      "outputs": [
        {
          "output_type": "stream",
          "name": "stdout",
          "text": [
            "+--------------------+--------------------+--------------------+--------------------+--------------------+--------------------+--------------------+--------+\n",
            "|         Course Name|          University|    Difficulty Level|       Course Rating|          Course URL|  Course Description|              Skills|recordID|\n",
            "+--------------------+--------------------+--------------------+--------------------+--------------------+--------------------+--------------------+--------+\n",
            "|  If you have com...| signed up to the...| met all the asse...| this course is f...| but this course ...| through the Conn...| US district lead...|       0|\n",
            "|The Business of P...|Advancing Women i...|            Advanced|                  48|https://www.cours...|Sponsored by AMAZ...|market segmentati...|       1|\n",
            "|Acing the Product...|Advancing Women i...|            Advanced|                   5|https://www.cours...|Sponsored by AMAZ...|process managemen...|       2|\n",
            "|The Art  Science ...|Advancing Women i...|            Beginner|                   5|https://www.cours...|Sponsored by AMAZ...|business partner ...|       3|\n",
            "|Data for Machine ...|Alberta Machine I...|            Beginner|                  44|https://www.cours...|This course is al...|General Statistic...|       4|\n",
            "|Optimizing Machin...|Alberta Machine I...|            Beginner|                  45|https://www.cours...|This course synth...|project  Deep Lea...|       5|\n",
            "|Machine Learning ...|Alberta Machine I...|        Intermediate|                  47|https://www.cours...|This course takes...|classification al...|       6|\n",
            "|Introduction to A...|Alberta Machine I...|        Intermediate|                  47|https://www.cours...|This course is fo...|Algorithms  Machi...|       6|\n",
            "|Big Data Analytic...|Alibaba Cloud Aca...|            Beginner|                  47|https://www.cours...|Building an Analy...|Apache Hadoop  So...|       7|\n",
            "|Cloud Computing F...|Alibaba Cloud Aca...|            Beginner|                  47|https://www.cours...|Looking to dive i...|backup  Databases...|       7|\n",
            "|Protecting Cloud ...|Alibaba Cloud Aca...|            Beginner|                  49|https://www.cours...|The Security Exam...|performance  wifi...|       8|\n",
            "|Building Modern J...| Amazon Web Services|            Advanced|                   4|https://www.cours...|In modern cloud n...| Building Modern ...|       9|\n",
            "|Building Modern P...| Amazon Web Services|            Advanced|                  43|https://www.cours...|In modern cloud n...| Building Modern ...|      10|\n",
            "|Amazon DynamoDB B...| Amazon Web Services|            Advanced|                  48|https://www.cours...|This course intro...|NoSQL  Combinatio...|      11|\n",
            "|Building Containe...| Amazon Web Services|            Beginner|                   4|https://www.cours...|This course intro...|Kubernetes  micro...|      12|\n",
            "|Getting Started w...| Amazon Web Services|            Beginner|                  44|https://www.cours...|Machine learning ...|Natural Language ...|      13|\n",
            "|AWS Fundamentals ...| Amazon Web Services|            Beginner|                  46|https://www.cours...|This course will ...|Databases  amazon...|      14|\n",
            "|AWS Computer Visi...| Amazon Web Services|            Beginner|                  46|https://www.cours...|This course provi...|automatic differe...|      14|\n",
            "|AWS Fundamentals ...| Amazon Web Services|            Beginner|                  47|https://www.cours...|This course will ...|Amazon Web Servic...|      15|\n",
            "|AWS Fundamentals ...| Amazon Web Services|        Intermediate|                  43|https://www.cours...|Welcome to AWS Fu...|Amazon Web Servic...|      16|\n",
            "+--------------------+--------------------+--------------------+--------------------+--------------------+--------------------+--------------------+--------+\n",
            "only showing top 20 rows\n",
            "\n"
          ]
        }
      ]
    },
    {
      "cell_type": "code",
      "source": [
        "metadata = data.select(\"recordID\").drop_duplicates()\n",
        "metadata.show()"
      ],
      "metadata": {
        "colab": {
          "base_uri": "https://localhost:8080/"
        },
        "id": "e1EoeRUi1NuV",
        "outputId": "30e87b17-6288-44ef-95c2-67f669d063df"
      },
      "execution_count": null,
      "outputs": [
        {
          "output_type": "stream",
          "name": "stdout",
          "text": [
            "+--------+\n",
            "|recordID|\n",
            "+--------+\n",
            "|       0|\n",
            "|       1|\n",
            "|       2|\n",
            "|       3|\n",
            "|       4|\n",
            "|       5|\n",
            "|       6|\n",
            "|       7|\n",
            "|       8|\n",
            "|       9|\n",
            "|      10|\n",
            "|      11|\n",
            "|      12|\n",
            "|      13|\n",
            "|      14|\n",
            "|      15|\n",
            "|      16|\n",
            "|      17|\n",
            "|      18|\n",
            "|      19|\n",
            "+--------+\n",
            "only showing top 20 rows\n",
            "\n"
          ]
        }
      ]
    },
    {
      "cell_type": "markdown",
      "source": [
        "# **Retrieve any record given the record ID**"
      ],
      "metadata": {
        "id": "vadRZMxy104v"
      }
    },
    {
      "cell_type": "code",
      "source": [
        "# Get an ID from metadata\n",
        "record_ID = list(map(lambda row: row[0], metadata.rdd.takeSample(False, 1)))[0]\n",
        "record_ID"
      ],
      "metadata": {
        "colab": {
          "base_uri": "https://localhost:8080/"
        },
        "id": "cR1vFn5o1zPF",
        "outputId": "35f3faac-8ced-4822-eba6-c609dd500e82"
      },
      "execution_count": null,
      "outputs": [
        {
          "output_type": "execute_result",
          "data": {
            "text/plain": [
              "1541"
            ]
          },
          "metadata": {},
          "execution_count": 309
        }
      ]
    },
    {
      "cell_type": "code",
      "source": [
        "# Retrieve records belonging to ID\n",
        "result_df = data.filter(data.recordID == record_ID)\n",
        "result_df.show()"
      ],
      "metadata": {
        "colab": {
          "base_uri": "https://localhost:8080/"
        },
        "id": "2rjxD_fD3x_c",
        "outputId": "711abe18-da9a-48cb-9fd0-2e759e41f2cb"
      },
      "execution_count": null,
      "outputs": [
        {
          "output_type": "stream",
          "name": "stdout",
          "text": [
            "+--------------------+--------------------+----------------+-------------+--------------------+--------------------+--------------------+--------+\n",
            "|         Course Name|          University|Difficulty Level|Course Rating|          Course URL|  Course Description|              Skills|recordID|\n",
            "+--------------------+--------------------+----------------+-------------+--------------------+--------------------+--------------------+--------+\n",
            "|Lesson  Business ...|University of Was...|    Intermediate|           42|https://www.cours...|This lesson is pa...|english language ...|    1541|\n",
            "+--------------------+--------------------+----------------+-------------+--------------------+--------------------+--------------------+--------+\n",
            "\n"
          ]
        }
      ]
    },
    {
      "cell_type": "code",
      "source": [
        "# Store result\n",
        "result_df.toPandas().to_csv(\"/content/drive/My Drive/spark_preprocessed_data.csv\")"
      ],
      "metadata": {
        "id": "vGC7gYZ-rZxz"
      },
      "execution_count": null,
      "outputs": []
    },
    {
      "cell_type": "code",
      "source": [
        ""
      ],
      "metadata": {
        "id": "6W28_1TLDpQ0"
      },
      "execution_count": null,
      "outputs": []
    }
  ]
}