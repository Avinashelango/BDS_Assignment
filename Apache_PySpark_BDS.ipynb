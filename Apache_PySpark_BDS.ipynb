{
  "nbformat": 4,
  "nbformat_minor": 0,
  "metadata": {
    "colab": {
      "name": "Apache PySpark - BDS.ipynb",
      "provenance": [],
      "collapsed_sections": []
    },
    "kernelspec": {
      "name": "python3",
      "display_name": "Python 3"
    },
    "language_info": {
      "name": "python"
    }
  },
  "cells": [
    {
      "cell_type": "markdown",
      "source": [
        "# **AIM**\n",
        "\n",
        "## A Python / Java / Spark code which enables:\n",
        "\n",
        "*   ### The given CSV data to be written, using the distributed storage layout strategy described, to reduce duplicate data\n",
        "*   ### Retrieval of any record given the record ID from the distributed storage\n",
        "\n"
      ],
      "metadata": {
        "id": "VOkoOdpGABfN"
      }
    },
    {
      "cell_type": "markdown",
      "source": [
        "# **Setup Apache Spark**"
      ],
      "metadata": {
        "id": "qtzdPAVdjB5W"
      }
    },
    {
      "cell_type": "code",
      "source": [
        "!apt-get install openjdk-8-jdk-headless -qq > /dev/null"
      ],
      "metadata": {
        "id": "F49hlEePhkOG"
      },
      "execution_count": null,
      "outputs": []
    },
    {
      "cell_type": "code",
      "source": [
        "!wget -q https://www-eu.apache.org/dist/spark/spark-3.0.3/spark-3.0.3-bin-hadoop2.7.tgz"
      ],
      "metadata": {
        "id": "hCBGwpsIhkTb"
      },
      "execution_count": null,
      "outputs": []
    },
    {
      "cell_type": "code",
      "source": [
        "!tar xf spark-3.0.3-bin-hadoop2.7.tgz"
      ],
      "metadata": {
        "id": "3qNQMgT7hph8"
      },
      "execution_count": null,
      "outputs": []
    },
    {
      "cell_type": "code",
      "source": [
        "!pip install -q findspark"
      ],
      "metadata": {
        "id": "ky1pcz2uhrB_"
      },
      "execution_count": null,
      "outputs": []
    },
    {
      "cell_type": "code",
      "source": [
        "import os\n",
        "os.environ[\"JAVA_HOME\"] = \"/usr/lib/jvm/java-8-openjdk-amd64\"\n",
        "os.environ[\"SPARK_HOME\"] = \"/content/spark-3.0.3-bin-hadoop2.7\""
      ],
      "metadata": {
        "id": "du_-Q4w0htJB"
      },
      "execution_count": null,
      "outputs": []
    },
    {
      "cell_type": "code",
      "source": [
        "import findspark\n",
        "findspark.init()"
      ],
      "metadata": {
        "id": "qcnxCVEuhvN0"
      },
      "execution_count": null,
      "outputs": []
    },
    {
      "cell_type": "code",
      "source": [
        "findspark.find()"
      ],
      "metadata": {
        "colab": {
          "base_uri": "https://localhost:8080/",
          "height": 36
        },
        "id": "oLaxQoY2hxQo",
        "outputId": "5b3a6d10-0174-4e92-bb89-159fc95a723e"
      },
      "execution_count": null,
      "outputs": [
        {
          "output_type": "execute_result",
          "data": {
            "application/vnd.google.colaboratory.intrinsic+json": {
              "type": "string"
            },
            "text/plain": [
              "'/content/spark-3.0.3-bin-hadoop2.7'"
            ]
          },
          "metadata": {},
          "execution_count": 243
        }
      ]
    },
    {
      "cell_type": "code",
      "source": [
        "from pyspark.sql import SparkSession\n",
        "\n",
        "spark = SparkSession.builder\\\n",
        "        .master(\"local\")\\\n",
        "        .appName(\"Colab\")\\\n",
        "        .config('spark.ui.port', '4050')\\\n",
        "        .getOrCreate()\n",
        "spark"
      ],
      "metadata": {
        "colab": {
          "base_uri": "https://localhost:8080/",
          "height": 223
        },
        "id": "dQJa35bxhyyT",
        "outputId": "a1b39443-6cbc-4b4c-d387-4275fa40604e"
      },
      "execution_count": null,
      "outputs": [
        {
          "output_type": "execute_result",
          "data": {
            "text/html": [
              "\n",
              "            <div>\n",
              "                <p><b>SparkSession - in-memory</b></p>\n",
              "                \n",
              "        <div>\n",
              "            <p><b>SparkContext</b></p>\n",
              "\n",
              "            <p><a href=\"http://3e8adeb8531d:4050\">Spark UI</a></p>\n",
              "\n",
              "            <dl>\n",
              "              <dt>Version</dt>\n",
              "                <dd><code>v3.0.3</code></dd>\n",
              "              <dt>Master</dt>\n",
              "                <dd><code>local</code></dd>\n",
              "              <dt>AppName</dt>\n",
              "                <dd><code>Colab</code></dd>\n",
              "            </dl>\n",
              "        </div>\n",
              "        \n",
              "            </div>\n",
              "        "
            ],
            "text/plain": [
              "<pyspark.sql.session.SparkSession at 0x7f9177e04550>"
            ]
          },
          "metadata": {},
          "execution_count": 244
        }
      ]
    },
    {
      "cell_type": "code",
      "source": [
        "!wget https://bin.equinox.io/c/4VmDzA7iaHb/ngrok-stable-linux-amd64.zip\n",
        "!unzip ngrok-stable-linux-amd64.zip\n",
        "get_ipython().system_raw('./ngrok http 4050 &')\n",
        "!curl -s http://localhost:4040/api/tunnels"
      ],
      "metadata": {
        "colab": {
          "base_uri": "https://localhost:8080/"
        },
        "id": "e3B7nXCgh10D",
        "outputId": "b4865077-4a10-4809-a5d3-9544d8c0ae72"
      },
      "execution_count": null,
      "outputs": [
        {
          "output_type": "stream",
          "name": "stdout",
          "text": [
            "--2022-03-02 19:08:37--  https://bin.equinox.io/c/4VmDzA7iaHb/ngrok-stable-linux-amd64.zip\n",
            "Resolving bin.equinox.io (bin.equinox.io)... 18.205.222.128, 54.161.241.46, 54.237.133.81, ...\n",
            "Connecting to bin.equinox.io (bin.equinox.io)|18.205.222.128|:443... connected.\n",
            "HTTP request sent, awaiting response... 200 OK\n",
            "Length: 13832437 (13M) [application/octet-stream]\n",
            "Saving to: ‘ngrok-stable-linux-amd64.zip.1’\n",
            "\n",
            "ngrok-stable-linux- 100%[===================>]  13.19M  18.5MB/s    in 0.7s    \n",
            "\n",
            "2022-03-02 19:08:38 (18.5 MB/s) - ‘ngrok-stable-linux-amd64.zip.1’ saved [13832437/13832437]\n",
            "\n",
            "Archive:  ngrok-stable-linux-amd64.zip\n",
            "replace ngrok? [y]es, [n]o, [A]ll, [N]one, [r]ename: y\n",
            "  inflating: ngrok                   \n",
            "{\"tunnels\":[{\"name\":\"command_line (http)\",\"uri\":\"/api/tunnels/command_line%20%28http%29\",\"public_url\":\"http://1131-34-125-8-227.ngrok.io\",\"proto\":\"http\",\"config\":{\"addr\":\"http://localhost:4050\",\"inspect\":true},\"metrics\":{\"conns\":{\"count\":0,\"gauge\":0,\"rate1\":0,\"rate5\":0,\"rate15\":0,\"p50\":0,\"p90\":0,\"p95\":0,\"p99\":0},\"http\":{\"count\":0,\"rate1\":0,\"rate5\":0,\"rate15\":0,\"p50\":0,\"p90\":0,\"p95\":0,\"p99\":0}}},{\"name\":\"command_line\",\"uri\":\"/api/tunnels/command_line\",\"public_url\":\"https://1131-34-125-8-227.ngrok.io\",\"proto\":\"https\",\"config\":{\"addr\":\"http://localhost:4050\",\"inspect\":true},\"metrics\":{\"conns\":{\"count\":0,\"gauge\":0,\"rate1\":0,\"rate5\":0,\"rate15\":0,\"p50\":0,\"p90\":0,\"p95\":0,\"p99\":0},\"http\":{\"count\":0,\"rate1\":0,\"rate5\":0,\"rate15\":0,\"p50\":0,\"p90\":0,\"p95\":0,\"p99\":0}}}],\"uri\":\"/api/tunnels\"}\n"
          ]
        }
      ]
    },
    {
      "cell_type": "markdown",
      "source": [
        "# **Setup Metadata**"
      ],
      "metadata": {
        "id": "b55mUoe2wHML"
      }
    },
    {
      "cell_type": "code",
      "source": [
        "# Setup metadata to reduce duplication\n",
        "from pyspark.sql import Window\n",
        "\n",
        "window = Window.orderBy(['University', 'Difficulty Level', 'Course Rating'])\n",
        "data = data.withColumn('recordID',dense_rank().over(window) - 1)\n",
        "data.orderBy(['University', 'Difficulty Level', 'Course Rating', 'recordID']).show()"
      ],
      "metadata": {
        "colab": {
          "base_uri": "https://localhost:8080/"
        },
        "id": "gO2gu46SwCC3",
        "outputId": "06e99865-fe33-4470-fbb7-186cd3f9d93f"
      },
      "execution_count": null,
      "outputs": [
        {
          "output_type": "stream",
          "name": "stdout",
          "text": [
            "+--------------------+--------------------+--------------------+--------------------+--------------------+--------------------+--------------------+--------+\n",
            "|         Course Name|          University|    Difficulty Level|       Course Rating|          Course URL|  Course Description|              Skills|recordID|\n",
            "+--------------------+--------------------+--------------------+--------------------+--------------------+--------------------+--------------------+--------+\n",
            "|  If you have com...| signed up to the...| met all the asse...| this course is f...| but this course ...| through the Conn...| US district lead...|       0|\n",
            "|The Business of P...|Advancing Women i...|            Advanced|                  48|https://www.cours...|Sponsored by AMAZ...|market segmentati...|       1|\n",
            "|Acing the Product...|Advancing Women i...|            Advanced|                   5|https://www.cours...|Sponsored by AMAZ...|process managemen...|       2|\n",
            "|The Art  Science ...|Advancing Women i...|            Beginner|                   5|https://www.cours...|Sponsored by AMAZ...|business partner ...|       3|\n",
            "|Data for Machine ...|Alberta Machine I...|            Beginner|                  44|https://www.cours...|This course is al...|General Statistic...|       4|\n",
            "|Optimizing Machin...|Alberta Machine I...|            Beginner|                  45|https://www.cours...|This course synth...|project  Deep Lea...|       5|\n",
            "|Machine Learning ...|Alberta Machine I...|        Intermediate|                  47|https://www.cours...|This course takes...|classification al...|       6|\n",
            "|Introduction to A...|Alberta Machine I...|        Intermediate|                  47|https://www.cours...|This course is fo...|Algorithms  Machi...|       6|\n",
            "|Big Data Analytic...|Alibaba Cloud Aca...|            Beginner|                  47|https://www.cours...|Building an Analy...|Apache Hadoop  So...|       7|\n",
            "|Cloud Computing F...|Alibaba Cloud Aca...|            Beginner|                  47|https://www.cours...|Looking to dive i...|backup  Databases...|       7|\n",
            "|Protecting Cloud ...|Alibaba Cloud Aca...|            Beginner|                  49|https://www.cours...|The Security Exam...|performance  wifi...|       8|\n",
            "|Building Modern J...| Amazon Web Services|            Advanced|                   4|https://www.cours...|In modern cloud n...| Building Modern ...|       9|\n",
            "|Building Modern P...| Amazon Web Services|            Advanced|                  43|https://www.cours...|In modern cloud n...| Building Modern ...|      10|\n",
            "|Amazon DynamoDB B...| Amazon Web Services|            Advanced|                  48|https://www.cours...|This course intro...|NoSQL  Combinatio...|      11|\n",
            "|Building Containe...| Amazon Web Services|            Beginner|                   4|https://www.cours...|This course intro...|Kubernetes  micro...|      12|\n",
            "|Getting Started w...| Amazon Web Services|            Beginner|                  44|https://www.cours...|Machine learning ...|Natural Language ...|      13|\n",
            "|AWS Fundamentals ...| Amazon Web Services|            Beginner|                  46|https://www.cours...|This course will ...|Databases  amazon...|      14|\n",
            "|AWS Computer Visi...| Amazon Web Services|            Beginner|                  46|https://www.cours...|This course provi...|automatic differe...|      14|\n",
            "|AWS Fundamentals ...| Amazon Web Services|            Beginner|                  47|https://www.cours...|This course will ...|Amazon Web Servic...|      15|\n",
            "|AWS Fundamentals ...| Amazon Web Services|        Intermediate|                  43|https://www.cours...|Welcome to AWS Fu...|Amazon Web Servic...|      16|\n",
            "+--------------------+--------------------+--------------------+--------------------+--------------------+--------------------+--------------------+--------+\n",
            "only showing top 20 rows\n",
            "\n"
          ]
        }
      ]
    },
    {
      "cell_type": "code",
      "source": [
        "metadata = data.select(\"recordID\").drop_duplicates()\n",
        "metadata.show()"
      ],
      "metadata": {
        "colab": {
          "base_uri": "https://localhost:8080/"
        },
        "id": "e1EoeRUi1NuV",
        "outputId": "30e87b17-6288-44ef-95c2-67f669d063df"
      },
      "execution_count": null,
      "outputs": [
        {
          "output_type": "stream",
          "name": "stdout",
          "text": [
            "+--------+\n",
            "|recordID|\n",
            "+--------+\n",
            "|       0|\n",
            "|       1|\n",
            "|       2|\n",
            "|       3|\n",
            "|       4|\n",
            "|       5|\n",
            "|       6|\n",
            "|       7|\n",
            "|       8|\n",
            "|       9|\n",
            "|      10|\n",
            "|      11|\n",
            "|      12|\n",
            "|      13|\n",
            "|      14|\n",
            "|      15|\n",
            "|      16|\n",
            "|      17|\n",
            "|      18|\n",
            "|      19|\n",
            "+--------+\n",
            "only showing top 20 rows\n",
            "\n"
          ]
        }
      ]
    },
    {
      "cell_type": "markdown",
      "source": [
        "# **Retrieve any record given the record ID**"
      ],
      "metadata": {
        "id": "vadRZMxy104v"
      }
    },
    {
      "cell_type": "code",
      "source": [
        "# Get an ID from metadata\n",
        "record_ID = list(map(lambda row: row[0], metadata.rdd.takeSample(False, 1)))[0]\n",
        "record_ID"
      ],
      "metadata": {
        "colab": {
          "base_uri": "https://localhost:8080/"
        },
        "id": "cR1vFn5o1zPF",
        "outputId": "35f3faac-8ced-4822-eba6-c609dd500e82"
      },
      "execution_count": null,
      "outputs": [
        {
          "output_type": "execute_result",
          "data": {
            "text/plain": [
              "2404"
            ]
          },
          "metadata": {},
          "execution_count": 309
        }
      ]
    },
    {
      "cell_type": "code",
      "source": [
        "# Retrieve records belonging to ID\n",
        "result_df = data.filter(data.recordID == record_ID)\n",
        "result_df.show()"
      ],
      "metadata": {
        "colab": {
          "base_uri": "https://localhost:8080/"
        },
        "id": "2rjxD_fD3x_c",
        "outputId": "711abe18-da9a-48cb-9fd0-2e759e41f2cb"
      },
      "execution_count": null,
      "outputs": [
        {
          "output_type": "stream",
          "name": "stdout",
          "text": [
            "+--------------------+--------------------+----------------+-------------+--------------------+--------------------+--------------------+--------+\n",
            "|         Course Name|          University|Difficulty Level|Course Rating|          Course URL|  Course Description|              Skills|recordID|\n",
            "+--------------------+--------------------+----------------+-------------+--------------------+--------------------+--------------------+--------+\n",
            "|Lesson  Business ...|University of Was...|    Intermediate|           42|https://www.cours...|This lesson is pa...|english language ...|    1541|\n",
            "+--------------------+--------------------+----------------+-------------+--------------------+--------------------+--------------------+--------+\n",
            "\n"
          ]
        }
      ]
    },
    {
      "cell_type": "code",
      "source": [
        "# Store result\n",
        "result_df.toPandas().to_csv(\"/content/drive/My Drive/spark_preprocessed_data.csv\")"
      ],
      "metadata": {
        "id": "vGC7gYZ-rZxz"
      },
      "execution_count": null,
      "outputs": []
    },
    {
      "cell_type": "code",
      "source": [
        ""
      ],
      "metadata": {
        "id": "6W28_1TLDpQ0"
      },
      "execution_count": null,
      "outputs": []
    }
  ]
}
